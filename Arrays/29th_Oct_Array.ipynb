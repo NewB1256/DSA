{
 "cells": [
  {
   "cell_type": "markdown",
   "id": "66008b7f",
   "metadata": {},
   "source": [
    "# Assignment Questions"
   ]
  },
  {
   "cell_type": "code",
   "execution_count": 1,
   "id": "3524c82e",
   "metadata": {},
   "outputs": [
    {
     "name": "stdout",
     "output_type": "stream",
     "text": [
      "Output = True\n"
     ]
    }
   ],
   "source": [
    "\"\"\" 1. Given an array, check if it contains any duplicates or not.\n",
    "\n",
    "arr=[1,2,4,2,5,9]\n",
    "Output = True  \"\"\"\n",
    "\n",
    "arr = [1, 2, 4, 2, 5, 9]\n",
    "seen = list()\n",
    "\n",
    "for i in arr:\n",
    "    if i in seen:\n",
    "        print(\"Output = True\")\n",
    "        break\n",
    "    seen.append(i)\n",
    "else:\n",
    "    print(\"Output = False\")\n",
    "   "
   ]
  },
  {
   "cell_type": "code",
   "execution_count": 2,
   "id": "602fb0a2",
   "metadata": {},
   "outputs": [
    {
     "name": "stdout",
     "output_type": "stream",
     "text": [
      "Enter the position: 3\n",
      "Roatated List: [5, 6, 7, 1, 2, 3, 4]\n"
     ]
    }
   ],
   "source": [
    "\"\"\" 2. Given an array and an integer k, rotate the array to the right by k steps. \n",
    "\n",
    "arr=[1,2,3,4,5,6,7]   k=3\n",
    "Output=[5,6,7,1,2,3,4]  \"\"\"\n",
    "\n",
    "original_list = [1,2,3,4,5,6,7]\n",
    "n = int(input(\"Enter the position: \"))\n",
    "\n",
    "rotated_list = original_list[-n:] + original_list[:-n]\n",
    "\n",
    "print(f\"Roatated List: {rotated_list}\")"
   ]
  },
  {
   "cell_type": "code",
   "execution_count": 3,
   "id": "0528230b",
   "metadata": {},
   "outputs": [
    {
     "name": "stdout",
     "output_type": "stream",
     "text": [
      "Reversed Array:  [12, 9, 7, 5, 4, 2]\n"
     ]
    }
   ],
   "source": [
    "\"\"\" 3. Reverse the given array in-place, means without using any extra data structure. \n",
    "\n",
    "arr=[2,4,5,7,9,12]\n",
    "Output=[12,9,7,5,4,2]  \"\"\"\n",
    "\n",
    "arr=[2,4,5,7,9,12]\n",
    "print(\"Reversed Array: \",arr[::-1])"
   ]
  },
  {
   "cell_type": "code",
   "execution_count": 4,
   "id": "b81ab827",
   "metadata": {},
   "outputs": [
    {
     "name": "stdout",
     "output_type": "stream",
     "text": [
      "Maximun Element in the array:  20\n",
      "------ OR ------\n",
      "Maximun Element in the array:  20\n"
     ]
    }
   ],
   "source": [
    "\"\"\" 4. Given an array of integers, find the maximum element in an array\n",
    "\n",
    "arr=[10,5,20,8,15]\n",
    "Output = 20   \"\"\"\n",
    "\n",
    "arr=[10,5,20,8,15]\n",
    "print(\"Maximun Element in the array: \",max(arr))\n",
    "\n",
    "print(\"------ OR ------\")\n",
    "\n",
    "maxi = 0\n",
    "for i in arr:\n",
    "    if i>maxi:\n",
    "        maxi = i\n",
    "print(\"Maximun Element in the array: \",maxi)       "
   ]
  },
  {
   "cell_type": "code",
   "execution_count": 5,
   "id": "ad3d236a",
   "metadata": {},
   "outputs": [
    {
     "name": "stdout",
     "output_type": "stream",
     "text": [
      "[1, 2, 3, 4, 5]\n"
     ]
    }
   ],
   "source": [
    "\"\"\" 5. Given a sorted array, remove the duplicate element without using any extra data structure. \n",
    "\n",
    "arr=[1,1,2,2,2,3,3,4,4,4,5,5]\n",
    "Output=[1,2,3,4,5]  \"\"\"\n",
    "\n",
    "arr = [1, 1, 2, 2, 2, 3, 3, 4, 4, 4, 5, 5]\n",
    "\n",
    "if len(arr) <= 1:\n",
    "    print(arr)\n",
    "else:\n",
    "    for i in range(len(arr) - 1, 0, -1):\n",
    "        if arr[i] == arr[i - 1]:\n",
    "            del arr[i]\n",
    "\n",
    "    print(arr)"
   ]
  }
 ],
 "metadata": {
  "kernelspec": {
   "display_name": "Python 3 (ipykernel)",
   "language": "python",
   "name": "python3"
  },
  "language_info": {
   "codemirror_mode": {
    "name": "ipython",
    "version": 3
   },
   "file_extension": ".py",
   "mimetype": "text/x-python",
   "name": "python",
   "nbconvert_exporter": "python",
   "pygments_lexer": "ipython3",
   "version": "3.11.5"
  }
 },
 "nbformat": 4,
 "nbformat_minor": 5
}
