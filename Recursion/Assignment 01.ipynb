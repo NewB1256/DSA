{
 "cells": [
  {
   "cell_type": "code",
   "execution_count": 1,
   "id": "ffb25f28-ed30-4ee0-9ee8-749ef0a0a6fe",
   "metadata": {},
   "outputs": [
    {
     "name": "stdout",
     "output_type": "stream",
     "text": [
      "Move disk 1 from A to C\n",
      "Move disk 2 from A to B\n",
      "Move disk 1 from C to B\n",
      "Move disk 3 from A to C\n",
      "Move disk 1 from B to A\n",
      "Move disk 2 from B to C\n",
      "Move disk 1 from A to C\n"
     ]
    }
   ],
   "source": [
    "\"\"\"Q.1 Can you explain the logic and working of the Tower of Hanoi algorithm by writing a Java program?\n",
    "How does the recursion work, and how are the movements of disks between rods accomplished?\"\"\"\n",
    "\n",
    "\"\"\"Explanation:\n",
    "\n",
    "Base Case:\n",
    "\t•\tWhen n == 1, it means there’s only one disk to move. In this case, the function simply prints the instruction to move \n",
    "    this disk   directly from the source to the destination peg and returns.\n",
    "Recursive Steps:\n",
    "\t•\tFor n > 1, the function solves the problem by breaking it into three steps:\n",
    "\t•\tStep 1: Move the top n-1 disks from the source peg to the auxiliary peg, using the destination peg as temporary storage.\n",
    "\t•\tStep 2: Move the nth (largest) disk directly from the source peg to the destination peg.\n",
    "\t•\tStep 3: Move the n-1 disks from the auxiliary peg to the destination peg, using the source peg as temporary storage.\n",
    "\n",
    "Each recursive call breaks the problem down further until it reaches the base case, where only one disk is left to move.\n",
    "\"\"\"\n",
    "def tower_of_hanoi(n, source, auxiliary, destination):\n",
    "\n",
    "    if n == 1:\n",
    "        print(f\"Move disk 1 from {source} to {destination}\")\n",
    "        return\n",
    "\n",
    "    tower_of_hanoi(n - 1, source, destination, auxiliary)\n",
    "    print(f\"Move disk {n} from {source} to {destination}\")\n",
    "    tower_of_hanoi(n - 1, auxiliary, source, destination)\n",
    "\n",
    "tower_of_hanoi(3, 'A', 'B', 'C')"
   ]
  },
  {
   "cell_type": "code",
   "execution_count": 2,
   "id": "6b5c8ab9-a9af-4e13-900f-bffd3f3de7d8",
   "metadata": {},
   "outputs": [
    {
     "name": "stdout",
     "output_type": "stream",
     "text": [
      "Minimum operations: 3\n"
     ]
    }
   ],
   "source": [
    "\"\"\"Q.2 Given two strings wordl and word2, return the minimum number of operations required to convert wordl to word2.\"\"\"\n",
    "\n",
    "def minDistance(word1, word2):\n",
    "    def helper(i, j):\n",
    "        if i == len(word1):\n",
    "            return len(word2) - j  #Inserts remaining characters from word2\n",
    "        if j == len(word2):\n",
    "            return len(word1) - i  #Deletes remaining characters from word1\n",
    "        \n",
    "        # If characters match, move to the next pair\n",
    "        if word1[i] == word2[j]:\n",
    "            return helper(i + 1, j + 1)\n",
    "        \n",
    "        # Otherwise, try all three operations and choose the minimum\n",
    "        insert_op = 1 + helper(i, j + 1)      #Inserts character from word2 into word1\n",
    "        delete_op = 1 + helper(i + 1, j)      #Deletes character from word1\n",
    "        replace_op = 1 + helper(i + 1, j + 1) #Replaces character in word1 with word2's character\n",
    "        \n",
    "        return min(insert_op, delete_op, replace_op)\n",
    "\n",
    "    #Calls the helper function from the beginning of both strings\n",
    "    return helper(0, 0)\n",
    "\n",
    "\n",
    "word1 = \"horse\"\n",
    "word2 = \"ros\"\n",
    "print(\"Minimum operations:\", minDistance(word1, word2))"
   ]
  },
  {
   "cell_type": "code",
   "execution_count": 3,
   "id": "3f0828f8-27f5-4b90-8c42-713a2aab2e63",
   "metadata": {},
   "outputs": [
    {
     "name": "stdout",
     "output_type": "stream",
     "text": [
      "Maximum value: 22\n"
     ]
    }
   ],
   "source": [
    "#Q.3 Print the max value of the array [13, 1, - 3, 22, 51.\n",
    "\n",
    "def find_max(arr):\n",
    "    max_val = arr[0] \n",
    "    for num in arr:\n",
    "        if num > max_val:\n",
    "            max_val = num\n",
    "    return max_val\n",
    "arr = [13, 1, -3, 22, 5]\n",
    "print(\"Maximum value:\", find_max(arr))"
   ]
  },
  {
   "cell_type": "code",
   "execution_count": 4,
   "id": "ffdd0926-a745-4c56-a868-8bba3986aca1",
   "metadata": {},
   "outputs": [
    {
     "name": "stdout",
     "output_type": "stream",
     "text": [
      "Sum of array elements: 120\n"
     ]
    }
   ],
   "source": [
    "#Q.4 Find the sum of the values of the array [92, 23, 15, -20, 10].\n",
    "\n",
    "def find_sum(arr):\n",
    "    total_sum = 0 \n",
    "    for num in arr:\n",
    "        total_sum += num\n",
    "    return total_sum\n",
    "\n",
    "arr = [92, 23, 15, -20, 10]\n",
    "print(\"Sum of array elements:\", find_sum(arr))  "
   ]
  },
  {
   "cell_type": "code",
   "execution_count": 5,
   "id": "1cb9652c-ca69-4512-b074-aa4828810319",
   "metadata": {},
   "outputs": [
    {
     "name": "stdout",
     "output_type": "stream",
     "text": [
      "YES\n"
     ]
    }
   ],
   "source": [
    "#Q.5 Given a number n. Print if it is an armstrong number or not.\n",
    "\n",
    "def armstrong_number(n):\n",
    "    res = 0\n",
    "    for i in str(n):\n",
    "        res += int(i)**3\n",
    "    return res == int(n)\n",
    "if armstrong_number(153):\n",
    "    print(\"YES\")\n",
    "else:\n",
    "    print(\"NO\")"
   ]
  }
 ],
 "metadata": {
  "kernelspec": {
   "display_name": "Python 3 (ipykernel)",
   "language": "python",
   "name": "python3"
  },
  "language_info": {
   "codemirror_mode": {
    "name": "ipython",
    "version": 3
   },
   "file_extension": ".py",
   "mimetype": "text/x-python",
   "name": "python",
   "nbconvert_exporter": "python",
   "pygments_lexer": "ipython3",
   "version": "3.12.6"
  }
 },
 "nbformat": 4,
 "nbformat_minor": 5
}
